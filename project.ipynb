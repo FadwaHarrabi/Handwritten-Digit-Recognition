{
 "cells": [
  {
   "cell_type": "code",
   "execution_count": 3,
   "metadata": {},
   "outputs": [],
   "source": [
    "from  torchvision import datasets\n",
    "from  torchvision.transforms import ToTensor"
   ]
  },
  {
   "cell_type": "code",
   "execution_count": 4,
   "metadata": {},
   "outputs": [
    {
     "name": "stdout",
     "output_type": "stream",
     "text": [
      "Downloading http://yann.lecun.com/exdb/mnist/train-images-idx3-ubyte.gz\n",
      "Failed to download (trying next):\n",
      "HTTP Error 403: Forbidden\n",
      "\n",
      "Downloading https://ossci-datasets.s3.amazonaws.com/mnist/train-images-idx3-ubyte.gz\n",
      "Downloading https://ossci-datasets.s3.amazonaws.com/mnist/train-images-idx3-ubyte.gz to data\\MNIST\\raw\\train-images-idx3-ubyte.gz\n"
     ]
    },
    {
     "name": "stderr",
     "output_type": "stream",
     "text": [
      "100%|██████████| 9912422/9912422 [00:27<00:00, 359851.79it/s]\n"
     ]
    },
    {
     "name": "stdout",
     "output_type": "stream",
     "text": [
      "Extracting data\\MNIST\\raw\\train-images-idx3-ubyte.gz to data\\MNIST\\raw\n",
      "\n",
      "Downloading http://yann.lecun.com/exdb/mnist/train-labels-idx1-ubyte.gz\n",
      "Failed to download (trying next):\n",
      "HTTP Error 403: Forbidden\n",
      "\n",
      "Downloading https://ossci-datasets.s3.amazonaws.com/mnist/train-labels-idx1-ubyte.gz\n",
      "Downloading https://ossci-datasets.s3.amazonaws.com/mnist/train-labels-idx1-ubyte.gz to data\\MNIST\\raw\\train-labels-idx1-ubyte.gz\n"
     ]
    },
    {
     "name": "stderr",
     "output_type": "stream",
     "text": [
      "100%|██████████| 28881/28881 [00:00<00:00, 159681.75it/s]\n"
     ]
    },
    {
     "name": "stdout",
     "output_type": "stream",
     "text": [
      "Extracting data\\MNIST\\raw\\train-labels-idx1-ubyte.gz to data\\MNIST\\raw\n",
      "\n",
      "Downloading http://yann.lecun.com/exdb/mnist/t10k-images-idx3-ubyte.gz\n",
      "Failed to download (trying next):\n",
      "HTTP Error 403: Forbidden\n",
      "\n",
      "Downloading https://ossci-datasets.s3.amazonaws.com/mnist/t10k-images-idx3-ubyte.gz\n",
      "Downloading https://ossci-datasets.s3.amazonaws.com/mnist/t10k-images-idx3-ubyte.gz to data\\MNIST\\raw\\t10k-images-idx3-ubyte.gz\n"
     ]
    },
    {
     "name": "stderr",
     "output_type": "stream",
     "text": [
      "100%|██████████| 1648877/1648877 [00:05<00:00, 322228.68it/s]\n"
     ]
    },
    {
     "name": "stdout",
     "output_type": "stream",
     "text": [
      "Extracting data\\MNIST\\raw\\t10k-images-idx3-ubyte.gz to data\\MNIST\\raw\n",
      "\n",
      "Downloading http://yann.lecun.com/exdb/mnist/t10k-labels-idx1-ubyte.gz\n",
      "Failed to download (trying next):\n",
      "HTTP Error 403: Forbidden\n",
      "\n",
      "Downloading https://ossci-datasets.s3.amazonaws.com/mnist/t10k-labels-idx1-ubyte.gz\n",
      "Downloading https://ossci-datasets.s3.amazonaws.com/mnist/t10k-labels-idx1-ubyte.gz to data\\MNIST\\raw\\t10k-labels-idx1-ubyte.gz\n"
     ]
    },
    {
     "name": "stderr",
     "output_type": "stream",
     "text": [
      "100%|██████████| 4542/4542 [00:00<00:00, 4477210.05it/s]"
     ]
    },
    {
     "name": "stdout",
     "output_type": "stream",
     "text": [
      "Extracting data\\MNIST\\raw\\t10k-labels-idx1-ubyte.gz to data\\MNIST\\raw\n",
      "\n"
     ]
    },
    {
     "name": "stderr",
     "output_type": "stream",
     "text": [
      "\n"
     ]
    }
   ],
   "source": [
    "train_data=datasets.MNIST(\n",
    "    root=\"data\",\n",
    "    train=True,\n",
    "    transform=ToTensor(),\n",
    "    download=True\n",
    ")\n",
    "test_data=datasets.MNIST(\n",
    "    root=\"data\",\n",
    "    train=False,\n",
    "    transform=ToTensor(),\n",
    "    download=True\n",
    ")"
   ]
  },
  {
   "cell_type": "code",
   "execution_count": 5,
   "metadata": {},
   "outputs": [
    {
     "data": {
      "text/plain": [
       "Dataset MNIST\n",
       "    Number of datapoints: 60000\n",
       "    Root location: data\n",
       "    Split: Train\n",
       "    StandardTransform\n",
       "Transform: ToTensor()"
      ]
     },
     "execution_count": 5,
     "metadata": {},
     "output_type": "execute_result"
    }
   ],
   "source": [
    "train_data"
   ]
  },
  {
   "cell_type": "code",
   "execution_count": 6,
   "metadata": {},
   "outputs": [
    {
     "data": {
      "text/plain": [
       "Dataset MNIST\n",
       "    Number of datapoints: 10000\n",
       "    Root location: data\n",
       "    Split: Test\n",
       "    StandardTransform\n",
       "Transform: ToTensor()"
      ]
     },
     "execution_count": 6,
     "metadata": {},
     "output_type": "execute_result"
    }
   ],
   "source": [
    "test_data"
   ]
  },
  {
   "cell_type": "code",
   "execution_count": 9,
   "metadata": {},
   "outputs": [
    {
     "data": {
      "text/plain": [
       "torch.Size([60000, 28, 28])"
      ]
     },
     "execution_count": 9,
     "metadata": {},
     "output_type": "execute_result"
    }
   ],
   "source": [
    "# train_data.data.shape\n",
    "train_data.data.size()"
   ]
  },
  {
   "cell_type": "code",
   "execution_count": 10,
   "metadata": {},
   "outputs": [
    {
     "data": {
      "text/plain": [
       "torch.Size([10000, 28, 28])"
      ]
     },
     "execution_count": 10,
     "metadata": {},
     "output_type": "execute_result"
    }
   ],
   "source": [
    "test_data.data.size()"
   ]
  },
  {
   "cell_type": "code",
   "execution_count": 11,
   "metadata": {},
   "outputs": [
    {
     "data": {
      "text/plain": [
       "tensor([5, 0, 4,  ..., 5, 6, 8])"
      ]
     },
     "execution_count": 11,
     "metadata": {},
     "output_type": "execute_result"
    }
   ],
   "source": [
    "train_data.targets"
   ]
  },
  {
   "cell_type": "code",
   "execution_count": 12,
   "metadata": {},
   "outputs": [],
   "source": [
    "from torch.utils.data import DataLoader\n",
    "dataloader={\n",
    "    \"train\": DataLoader(train_data,batch_size=100,shuffle=True,num_workers=1),\n",
    "    \"test\":DataLoader(test_data,batch_size=100,shuffle=True,num_workers=1)\n",
    "}"
   ]
  },
  {
   "cell_type": "code",
   "execution_count": 13,
   "metadata": {},
   "outputs": [
    {
     "data": {
      "text/plain": [
       "{'train': <torch.utils.data.dataloader.DataLoader at 0x1fd72948390>,\n",
       " 'test': <torch.utils.data.dataloader.DataLoader at 0x1fd72907ed0>}"
      ]
     },
     "execution_count": 13,
     "metadata": {},
     "output_type": "execute_result"
    }
   ],
   "source": [
    "dataloader"
   ]
  },
  {
   "cell_type": "code",
   "execution_count": 15,
   "metadata": {},
   "outputs": [],
   "source": [
    "import torch.nn as nn\n",
    "import torch.nn.functional as F  \n",
    "import torch.optim as optim\n",
    "\n",
    "class CNN(nn.Module):\n",
    "    def __init__(self, *args, **kwargs) -> None:\n",
    "        super().__init__(*args, **kwargs)\n",
    "        self.conv1=nn.Conv2d(1,10,kernel_size=5)\n",
    "        self.conv2=nn.Conv2d(10,20,kernel_size=5)\n",
    "        self.conv2_drop=nn.Dropout2d()\n",
    "        self.fc1=nn.Linear(320,50)  # fully connected\n",
    "        self.fc2=nn.Linear(50,10)\n",
    "    def forward(self,x):\n",
    "        x=F.relu(F.max_pool2d(self.conv1(x),2))\n",
    "        x=F.relu(F.max_pool2d(self.conv2_drop(self.conv2(x)),2)) \n",
    "        x=x.view(-1,320)\n",
    "        x=F.relu(self.fc1(x))\n",
    "        x=F.dropout(x,training=self.training)\n",
    "        x=self.fc2(x)\n",
    "\n",
    "        return F.softmax(x)\n",
    "\n"
   ]
  },
  {
   "cell_type": "code",
   "execution_count": 16,
   "metadata": {},
   "outputs": [],
   "source": [
    "import torch"
   ]
  },
  {
   "cell_type": "code",
   "execution_count": 19,
   "metadata": {},
   "outputs": [],
   "source": [
    "device=torch.device('cuda' if torch.cuda.is_available() else 'cpu')"
   ]
  },
  {
   "cell_type": "code",
   "execution_count": 20,
   "metadata": {},
   "outputs": [
    {
     "data": {
      "text/plain": [
       "device(type='cpu')"
      ]
     },
     "execution_count": 20,
     "metadata": {},
     "output_type": "execute_result"
    }
   ],
   "source": [
    "device"
   ]
  },
  {
   "cell_type": "code",
   "execution_count": 21,
   "metadata": {},
   "outputs": [],
   "source": [
    "model=CNN().to(device)"
   ]
  },
  {
   "cell_type": "code",
   "execution_count": 23,
   "metadata": {},
   "outputs": [],
   "source": [
    "optimizer=optim.Adam(model.parameters(),lr=0.001)\n",
    "loss_fn=nn.CrossEntropyLoss()\n",
    "def train(epoch):\n",
    "    model.train()\n",
    "    for batch_index,(data,target) in enumerate(dataloader[\"train\"]):\n",
    "        data,target=data.to(device),target.to(device)\n",
    "        optimizer.zero_grad()\n",
    "        output=model(data)\n",
    "        loss=loss_fn(output,target)\n",
    "        loss.backward()\n",
    "        optimizer.step()\n",
    "        if batch_index % 20==0:\n",
    "            print(f\"train epoch: {epoch} [{batch_index * len(data)}/{len(dataloader['train'].dataset)} ({100. * batch_index / len(dataloader['train']):.0f}%)]\\t{loss:.6f}\")\n",
    "\n",
    "\n",
    "def test():\n",
    "    model.eval()\n",
    "    test_loss=0\n",
    "    correct=0\n",
    "    with torch.no_grad():\n",
    "        for data ,target in dataloader[\"test\"]:\n",
    "            data,target=data.to(device),target.to(device)\n",
    "            output= model(data)\n",
    "            test_loss +=loss_fn(output,target).item()\n",
    "            pred=output.argmax(dim=-1,keepdim=True)\n",
    "            correct+= pred.eq(target.view_as(pred)).sum().item()\n",
    "    test_loss /= len(dataloader[\"test\"].dataset)\n",
    "    print(f\"\\nTest set: Average loss: {test_loss:.4f}, Accuracy: {correct}/{len(dataloader['test'].dataset)} ({100 * correct / len(dataloader['test'].dataset):.0f}%)\\n\")\n"
   ]
  },
  {
   "cell_type": "code",
   "execution_count": 24,
   "metadata": {},
   "outputs": [
    {
     "name": "stderr",
     "output_type": "stream",
     "text": [
      "C:\\Users\\user\\AppData\\Local\\Temp\\ipykernel_15200\\3307860700.py:21: UserWarning: Implicit dimension choice for softmax has been deprecated. Change the call to include dim=X as an argument.\n",
      "  return F.softmax(x)\n"
     ]
    },
    {
     "name": "stdout",
     "output_type": "stream",
     "text": [
      "train epoch: 1 [0/60000 (0%)]\t2.302612\n",
      "train epoch: 1 [2000/60000 (3%)]\t2.292022\n",
      "train epoch: 1 [4000/60000 (7%)]\t2.182149\n",
      "train epoch: 1 [6000/60000 (10%)]\t2.061021\n",
      "train epoch: 1 [8000/60000 (13%)]\t1.942664\n",
      "train epoch: 1 [10000/60000 (17%)]\t1.855855\n",
      "train epoch: 1 [12000/60000 (20%)]\t1.801574\n",
      "train epoch: 1 [14000/60000 (23%)]\t1.808984\n",
      "train epoch: 1 [16000/60000 (27%)]\t1.783171\n",
      "train epoch: 1 [18000/60000 (30%)]\t1.806563\n",
      "train epoch: 1 [20000/60000 (33%)]\t1.696466\n",
      "train epoch: 1 [22000/60000 (37%)]\t1.649105\n",
      "train epoch: 1 [24000/60000 (40%)]\t1.626374\n",
      "train epoch: 1 [26000/60000 (43%)]\t1.750425\n",
      "train epoch: 1 [28000/60000 (47%)]\t1.641076\n",
      "train epoch: 1 [30000/60000 (50%)]\t1.662446\n",
      "train epoch: 1 [32000/60000 (53%)]\t1.626713\n",
      "train epoch: 1 [34000/60000 (57%)]\t1.627544\n",
      "train epoch: 1 [36000/60000 (60%)]\t1.610174\n",
      "train epoch: 1 [38000/60000 (63%)]\t1.652673\n",
      "train epoch: 1 [40000/60000 (67%)]\t1.651115\n",
      "train epoch: 1 [42000/60000 (70%)]\t1.652807\n",
      "train epoch: 1 [44000/60000 (73%)]\t1.570729\n",
      "train epoch: 1 [46000/60000 (77%)]\t1.524156\n",
      "train epoch: 1 [48000/60000 (80%)]\t1.565527\n",
      "train epoch: 1 [50000/60000 (83%)]\t1.562496\n",
      "train epoch: 1 [52000/60000 (87%)]\t1.581815\n",
      "train epoch: 1 [54000/60000 (90%)]\t1.569206\n",
      "train epoch: 1 [56000/60000 (93%)]\t1.587613\n",
      "train epoch: 1 [58000/60000 (97%)]\t1.561440\n",
      "\n",
      "Test set: Average loss: 0.0152, Accuracy: 9436/10000 (94%)\n",
      "\n",
      "train epoch: 2 [0/60000 (0%)]\t1.574839\n",
      "train epoch: 2 [2000/60000 (3%)]\t1.625878\n",
      "train epoch: 2 [4000/60000 (7%)]\t1.607208\n",
      "train epoch: 2 [6000/60000 (10%)]\t1.564038\n",
      "train epoch: 2 [8000/60000 (13%)]\t1.608833\n",
      "train epoch: 2 [10000/60000 (17%)]\t1.525004\n",
      "train epoch: 2 [12000/60000 (20%)]\t1.591988\n",
      "train epoch: 2 [14000/60000 (23%)]\t1.553965\n",
      "train epoch: 2 [16000/60000 (27%)]\t1.652969\n",
      "train epoch: 2 [18000/60000 (30%)]\t1.608601\n",
      "train epoch: 2 [20000/60000 (33%)]\t1.547558\n",
      "train epoch: 2 [22000/60000 (37%)]\t1.549652\n",
      "train epoch: 2 [24000/60000 (40%)]\t1.540381\n",
      "train epoch: 2 [26000/60000 (43%)]\t1.511894\n",
      "train epoch: 2 [28000/60000 (47%)]\t1.606102\n",
      "train epoch: 2 [30000/60000 (50%)]\t1.580320\n",
      "train epoch: 2 [32000/60000 (53%)]\t1.566871\n",
      "train epoch: 2 [34000/60000 (57%)]\t1.494844\n",
      "train epoch: 2 [36000/60000 (60%)]\t1.536601\n",
      "train epoch: 2 [38000/60000 (63%)]\t1.529661\n",
      "train epoch: 2 [40000/60000 (67%)]\t1.608475\n",
      "train epoch: 2 [42000/60000 (70%)]\t1.622401\n",
      "train epoch: 2 [44000/60000 (73%)]\t1.585067\n",
      "train epoch: 2 [46000/60000 (77%)]\t1.596357\n",
      "train epoch: 2 [48000/60000 (80%)]\t1.507561\n",
      "train epoch: 2 [50000/60000 (83%)]\t1.536167\n",
      "train epoch: 2 [52000/60000 (87%)]\t1.526819\n",
      "train epoch: 2 [54000/60000 (90%)]\t1.568606\n",
      "train epoch: 2 [56000/60000 (93%)]\t1.550865\n",
      "train epoch: 2 [58000/60000 (97%)]\t1.532999\n",
      "\n",
      "Test set: Average loss: 0.0150, Accuracy: 9584/10000 (96%)\n",
      "\n",
      "train epoch: 3 [0/60000 (0%)]\t1.523606\n",
      "train epoch: 3 [2000/60000 (3%)]\t1.542090\n",
      "train epoch: 3 [4000/60000 (7%)]\t1.555888\n",
      "train epoch: 3 [6000/60000 (10%)]\t1.581483\n",
      "train epoch: 3 [8000/60000 (13%)]\t1.575932\n",
      "train epoch: 3 [10000/60000 (17%)]\t1.591853\n",
      "train epoch: 3 [12000/60000 (20%)]\t1.576172\n",
      "train epoch: 3 [14000/60000 (23%)]\t1.584267\n",
      "train epoch: 3 [16000/60000 (27%)]\t1.513898\n",
      "train epoch: 3 [18000/60000 (30%)]\t1.511244\n",
      "train epoch: 3 [20000/60000 (33%)]\t1.526223\n",
      "train epoch: 3 [22000/60000 (37%)]\t1.538680\n",
      "train epoch: 3 [24000/60000 (40%)]\t1.538908\n",
      "train epoch: 3 [26000/60000 (43%)]\t1.590288\n",
      "train epoch: 3 [28000/60000 (47%)]\t1.531333\n",
      "train epoch: 3 [30000/60000 (50%)]\t1.604284\n",
      "train epoch: 3 [32000/60000 (53%)]\t1.520325\n",
      "train epoch: 3 [34000/60000 (57%)]\t1.542748\n",
      "train epoch: 3 [36000/60000 (60%)]\t1.529041\n",
      "train epoch: 3 [38000/60000 (63%)]\t1.592385\n",
      "train epoch: 3 [40000/60000 (67%)]\t1.528252\n",
      "train epoch: 3 [42000/60000 (70%)]\t1.561517\n",
      "train epoch: 3 [44000/60000 (73%)]\t1.600491\n",
      "train epoch: 3 [46000/60000 (77%)]\t1.554010\n",
      "train epoch: 3 [48000/60000 (80%)]\t1.509857\n",
      "train epoch: 3 [50000/60000 (83%)]\t1.554533\n",
      "train epoch: 3 [52000/60000 (87%)]\t1.515003\n",
      "train epoch: 3 [54000/60000 (90%)]\t1.515310\n",
      "train epoch: 3 [56000/60000 (93%)]\t1.535047\n",
      "train epoch: 3 [58000/60000 (97%)]\t1.517095\n",
      "\n",
      "Test set: Average loss: 0.0150, Accuracy: 9647/10000 (96%)\n",
      "\n",
      "train epoch: 4 [0/60000 (0%)]\t1.532725\n",
      "train epoch: 4 [2000/60000 (3%)]\t1.559453\n",
      "train epoch: 4 [4000/60000 (7%)]\t1.588583\n",
      "train epoch: 4 [6000/60000 (10%)]\t1.620262\n",
      "train epoch: 4 [8000/60000 (13%)]\t1.523107\n",
      "train epoch: 4 [10000/60000 (17%)]\t1.516096\n",
      "train epoch: 4 [12000/60000 (20%)]\t1.515456\n",
      "train epoch: 4 [14000/60000 (23%)]\t1.527830\n",
      "train epoch: 4 [16000/60000 (27%)]\t1.546688\n",
      "train epoch: 4 [18000/60000 (30%)]\t1.540206\n",
      "train epoch: 4 [20000/60000 (33%)]\t1.559053\n",
      "train epoch: 4 [22000/60000 (37%)]\t1.547217\n",
      "train epoch: 4 [24000/60000 (40%)]\t1.531999\n",
      "train epoch: 4 [26000/60000 (43%)]\t1.532074\n",
      "train epoch: 4 [28000/60000 (47%)]\t1.546090\n",
      "train epoch: 4 [30000/60000 (50%)]\t1.523163\n",
      "train epoch: 4 [32000/60000 (53%)]\t1.510236\n",
      "train epoch: 4 [34000/60000 (57%)]\t1.503773\n",
      "train epoch: 4 [36000/60000 (60%)]\t1.529946\n",
      "train epoch: 4 [38000/60000 (63%)]\t1.547523\n",
      "train epoch: 4 [40000/60000 (67%)]\t1.508265\n",
      "train epoch: 4 [42000/60000 (70%)]\t1.516729\n",
      "train epoch: 4 [44000/60000 (73%)]\t1.542496\n",
      "train epoch: 4 [46000/60000 (77%)]\t1.549643\n",
      "train epoch: 4 [48000/60000 (80%)]\t1.533758\n",
      "train epoch: 4 [50000/60000 (83%)]\t1.578534\n",
      "train epoch: 4 [52000/60000 (87%)]\t1.530929\n",
      "train epoch: 4 [54000/60000 (90%)]\t1.580169\n",
      "train epoch: 4 [56000/60000 (93%)]\t1.525099\n",
      "train epoch: 4 [58000/60000 (97%)]\t1.500865\n",
      "\n",
      "Test set: Average loss: 0.0150, Accuracy: 9661/10000 (97%)\n",
      "\n",
      "train epoch: 5 [0/60000 (0%)]\t1.546726\n",
      "train epoch: 5 [2000/60000 (3%)]\t1.547624\n",
      "train epoch: 5 [4000/60000 (7%)]\t1.514695\n",
      "train epoch: 5 [6000/60000 (10%)]\t1.534511\n",
      "train epoch: 5 [8000/60000 (13%)]\t1.539350\n",
      "train epoch: 5 [10000/60000 (17%)]\t1.543259\n",
      "train epoch: 5 [12000/60000 (20%)]\t1.525035\n",
      "train epoch: 5 [14000/60000 (23%)]\t1.579241\n",
      "train epoch: 5 [16000/60000 (27%)]\t1.510236\n",
      "train epoch: 5 [18000/60000 (30%)]\t1.497666\n",
      "train epoch: 5 [20000/60000 (33%)]\t1.518905\n",
      "train epoch: 5 [22000/60000 (37%)]\t1.512964\n",
      "train epoch: 5 [24000/60000 (40%)]\t1.487295\n",
      "train epoch: 5 [26000/60000 (43%)]\t1.576086\n",
      "train epoch: 5 [28000/60000 (47%)]\t1.565711\n",
      "train epoch: 5 [30000/60000 (50%)]\t1.519861\n",
      "train epoch: 5 [32000/60000 (53%)]\t1.562832\n",
      "train epoch: 5 [34000/60000 (57%)]\t1.493462\n",
      "train epoch: 5 [36000/60000 (60%)]\t1.550055\n",
      "train epoch: 5 [38000/60000 (63%)]\t1.520512\n",
      "train epoch: 5 [40000/60000 (67%)]\t1.509147\n",
      "train epoch: 5 [42000/60000 (70%)]\t1.496583\n",
      "train epoch: 5 [44000/60000 (73%)]\t1.547632\n",
      "train epoch: 5 [46000/60000 (77%)]\t1.553896\n",
      "train epoch: 5 [48000/60000 (80%)]\t1.537893\n",
      "train epoch: 5 [50000/60000 (83%)]\t1.492989\n",
      "train epoch: 5 [52000/60000 (87%)]\t1.501696\n",
      "train epoch: 5 [54000/60000 (90%)]\t1.528417\n",
      "train epoch: 5 [56000/60000 (93%)]\t1.560542\n",
      "train epoch: 5 [58000/60000 (97%)]\t1.537010\n",
      "\n",
      "Test set: Average loss: 0.0149, Accuracy: 9681/10000 (97%)\n",
      "\n",
      "train epoch: 6 [0/60000 (0%)]\t1.529368\n",
      "train epoch: 6 [2000/60000 (3%)]\t1.513286\n",
      "train epoch: 6 [4000/60000 (7%)]\t1.526179\n",
      "train epoch: 6 [6000/60000 (10%)]\t1.498945\n",
      "train epoch: 6 [8000/60000 (13%)]\t1.538158\n",
      "train epoch: 6 [10000/60000 (17%)]\t1.518809\n",
      "train epoch: 6 [12000/60000 (20%)]\t1.494418\n",
      "train epoch: 6 [14000/60000 (23%)]\t1.545614\n",
      "train epoch: 6 [16000/60000 (27%)]\t1.543436\n",
      "train epoch: 6 [18000/60000 (30%)]\t1.554731\n",
      "train epoch: 6 [20000/60000 (33%)]\t1.536559\n",
      "train epoch: 6 [22000/60000 (37%)]\t1.519436\n",
      "train epoch: 6 [24000/60000 (40%)]\t1.570351\n",
      "train epoch: 6 [26000/60000 (43%)]\t1.532259\n",
      "train epoch: 6 [28000/60000 (47%)]\t1.556669\n",
      "train epoch: 6 [30000/60000 (50%)]\t1.519452\n",
      "train epoch: 6 [32000/60000 (53%)]\t1.529721\n",
      "train epoch: 6 [34000/60000 (57%)]\t1.493107\n",
      "train epoch: 6 [36000/60000 (60%)]\t1.564573\n",
      "train epoch: 6 [38000/60000 (63%)]\t1.506191\n",
      "train epoch: 6 [40000/60000 (67%)]\t1.539650\n",
      "train epoch: 6 [42000/60000 (70%)]\t1.503778\n",
      "train epoch: 6 [44000/60000 (73%)]\t1.522194\n",
      "train epoch: 6 [46000/60000 (77%)]\t1.543492\n",
      "train epoch: 6 [48000/60000 (80%)]\t1.557959\n",
      "train epoch: 6 [50000/60000 (83%)]\t1.552045\n",
      "train epoch: 6 [52000/60000 (87%)]\t1.548631\n",
      "train epoch: 6 [54000/60000 (90%)]\t1.508588\n",
      "train epoch: 6 [56000/60000 (93%)]\t1.540671\n",
      "train epoch: 6 [58000/60000 (97%)]\t1.562949\n",
      "\n",
      "Test set: Average loss: 0.0149, Accuracy: 9724/10000 (97%)\n",
      "\n",
      "train epoch: 7 [0/60000 (0%)]\t1.573971\n",
      "train epoch: 7 [2000/60000 (3%)]\t1.524499\n",
      "train epoch: 7 [4000/60000 (7%)]\t1.494187\n",
      "train epoch: 7 [6000/60000 (10%)]\t1.507763\n",
      "train epoch: 7 [8000/60000 (13%)]\t1.527748\n",
      "train epoch: 7 [10000/60000 (17%)]\t1.500332\n",
      "train epoch: 7 [12000/60000 (20%)]\t1.576191\n",
      "train epoch: 7 [14000/60000 (23%)]\t1.545787\n",
      "train epoch: 7 [16000/60000 (27%)]\t1.520983\n",
      "train epoch: 7 [18000/60000 (30%)]\t1.538687\n",
      "train epoch: 7 [20000/60000 (33%)]\t1.509316\n",
      "train epoch: 7 [22000/60000 (37%)]\t1.537745\n",
      "train epoch: 7 [24000/60000 (40%)]\t1.539445\n",
      "train epoch: 7 [26000/60000 (43%)]\t1.551424\n",
      "train epoch: 7 [28000/60000 (47%)]\t1.551641\n",
      "train epoch: 7 [30000/60000 (50%)]\t1.549545\n",
      "train epoch: 7 [32000/60000 (53%)]\t1.560272\n",
      "train epoch: 7 [34000/60000 (57%)]\t1.534387\n",
      "train epoch: 7 [36000/60000 (60%)]\t1.551813\n",
      "train epoch: 7 [38000/60000 (63%)]\t1.501528\n",
      "train epoch: 7 [40000/60000 (67%)]\t1.584279\n",
      "train epoch: 7 [42000/60000 (70%)]\t1.505903\n",
      "train epoch: 7 [44000/60000 (73%)]\t1.531545\n",
      "train epoch: 7 [46000/60000 (77%)]\t1.496196\n",
      "train epoch: 7 [48000/60000 (80%)]\t1.508046\n",
      "train epoch: 7 [50000/60000 (83%)]\t1.494334\n",
      "train epoch: 7 [52000/60000 (87%)]\t1.535655\n",
      "train epoch: 7 [54000/60000 (90%)]\t1.547900\n",
      "train epoch: 7 [56000/60000 (93%)]\t1.534427\n",
      "train epoch: 7 [58000/60000 (97%)]\t1.546419\n",
      "\n",
      "Test set: Average loss: 0.0149, Accuracy: 9731/10000 (97%)\n",
      "\n",
      "train epoch: 8 [0/60000 (0%)]\t1.516199\n",
      "train epoch: 8 [2000/60000 (3%)]\t1.521966\n",
      "train epoch: 8 [4000/60000 (7%)]\t1.512207\n",
      "train epoch: 8 [6000/60000 (10%)]\t1.510052\n",
      "train epoch: 8 [8000/60000 (13%)]\t1.521809\n",
      "train epoch: 8 [10000/60000 (17%)]\t1.531368\n",
      "train epoch: 8 [12000/60000 (20%)]\t1.576647\n",
      "train epoch: 8 [14000/60000 (23%)]\t1.497288\n",
      "train epoch: 8 [16000/60000 (27%)]\t1.579545\n",
      "train epoch: 8 [18000/60000 (30%)]\t1.538688\n",
      "train epoch: 8 [20000/60000 (33%)]\t1.570107\n",
      "train epoch: 8 [22000/60000 (37%)]\t1.496491\n",
      "train epoch: 8 [24000/60000 (40%)]\t1.539247\n",
      "train epoch: 8 [26000/60000 (43%)]\t1.531507\n",
      "train epoch: 8 [28000/60000 (47%)]\t1.503096\n",
      "train epoch: 8 [30000/60000 (50%)]\t1.517998\n",
      "train epoch: 8 [32000/60000 (53%)]\t1.526359\n",
      "train epoch: 8 [34000/60000 (57%)]\t1.493582\n",
      "train epoch: 8 [36000/60000 (60%)]\t1.549934\n",
      "train epoch: 8 [38000/60000 (63%)]\t1.553714\n",
      "train epoch: 8 [40000/60000 (67%)]\t1.508675\n",
      "train epoch: 8 [42000/60000 (70%)]\t1.500574\n",
      "train epoch: 8 [44000/60000 (73%)]\t1.503699\n",
      "train epoch: 8 [46000/60000 (77%)]\t1.531849\n",
      "train epoch: 8 [48000/60000 (80%)]\t1.528757\n",
      "train epoch: 8 [50000/60000 (83%)]\t1.524193\n",
      "train epoch: 8 [52000/60000 (87%)]\t1.482583\n",
      "train epoch: 8 [54000/60000 (90%)]\t1.485351\n",
      "train epoch: 8 [56000/60000 (93%)]\t1.497494\n",
      "train epoch: 8 [58000/60000 (97%)]\t1.540811\n",
      "\n",
      "Test set: Average loss: 0.0149, Accuracy: 9751/10000 (98%)\n",
      "\n",
      "train epoch: 9 [0/60000 (0%)]\t1.511777\n",
      "train epoch: 9 [2000/60000 (3%)]\t1.511846\n",
      "train epoch: 9 [4000/60000 (7%)]\t1.524739\n",
      "train epoch: 9 [6000/60000 (10%)]\t1.509418\n",
      "train epoch: 9 [8000/60000 (13%)]\t1.505680\n",
      "train epoch: 9 [10000/60000 (17%)]\t1.535414\n",
      "train epoch: 9 [12000/60000 (20%)]\t1.523439\n",
      "train epoch: 9 [14000/60000 (23%)]\t1.520209\n",
      "train epoch: 9 [16000/60000 (27%)]\t1.523715\n",
      "train epoch: 9 [18000/60000 (30%)]\t1.500767\n",
      "train epoch: 9 [20000/60000 (33%)]\t1.535864\n",
      "train epoch: 9 [22000/60000 (37%)]\t1.498594\n",
      "train epoch: 9 [24000/60000 (40%)]\t1.473023\n",
      "train epoch: 9 [26000/60000 (43%)]\t1.542391\n",
      "train epoch: 9 [28000/60000 (47%)]\t1.522440\n",
      "train epoch: 9 [30000/60000 (50%)]\t1.502689\n",
      "train epoch: 9 [32000/60000 (53%)]\t1.526636\n",
      "train epoch: 9 [34000/60000 (57%)]\t1.525787\n",
      "train epoch: 9 [36000/60000 (60%)]\t1.545979\n",
      "train epoch: 9 [38000/60000 (63%)]\t1.558170\n",
      "train epoch: 9 [40000/60000 (67%)]\t1.534281\n",
      "train epoch: 9 [42000/60000 (70%)]\t1.530226\n",
      "train epoch: 9 [44000/60000 (73%)]\t1.553152\n",
      "train epoch: 9 [46000/60000 (77%)]\t1.502047\n",
      "train epoch: 9 [48000/60000 (80%)]\t1.561157\n",
      "train epoch: 9 [50000/60000 (83%)]\t1.509575\n",
      "train epoch: 9 [52000/60000 (87%)]\t1.548334\n",
      "train epoch: 9 [54000/60000 (90%)]\t1.519295\n",
      "train epoch: 9 [56000/60000 (93%)]\t1.494471\n",
      "train epoch: 9 [58000/60000 (97%)]\t1.505645\n",
      "\n",
      "Test set: Average loss: 0.0149, Accuracy: 9755/10000 (98%)\n",
      "\n",
      "train epoch: 10 [0/60000 (0%)]\t1.568264\n",
      "train epoch: 10 [2000/60000 (3%)]\t1.538319\n",
      "train epoch: 10 [4000/60000 (7%)]\t1.506502\n",
      "train epoch: 10 [6000/60000 (10%)]\t1.555648\n",
      "train epoch: 10 [8000/60000 (13%)]\t1.502806\n",
      "train epoch: 10 [10000/60000 (17%)]\t1.518758\n",
      "train epoch: 10 [12000/60000 (20%)]\t1.575208\n",
      "train epoch: 10 [14000/60000 (23%)]\t1.489956\n",
      "train epoch: 10 [16000/60000 (27%)]\t1.502323\n",
      "train epoch: 10 [18000/60000 (30%)]\t1.505480\n",
      "train epoch: 10 [20000/60000 (33%)]\t1.542130\n",
      "train epoch: 10 [22000/60000 (37%)]\t1.517095\n",
      "train epoch: 10 [24000/60000 (40%)]\t1.528699\n",
      "train epoch: 10 [26000/60000 (43%)]\t1.551597\n",
      "train epoch: 10 [28000/60000 (47%)]\t1.554055\n",
      "train epoch: 10 [30000/60000 (50%)]\t1.536091\n",
      "train epoch: 10 [32000/60000 (53%)]\t1.534050\n",
      "train epoch: 10 [34000/60000 (57%)]\t1.528517\n",
      "train epoch: 10 [36000/60000 (60%)]\t1.493008\n",
      "train epoch: 10 [38000/60000 (63%)]\t1.531229\n",
      "train epoch: 10 [40000/60000 (67%)]\t1.523929\n",
      "train epoch: 10 [42000/60000 (70%)]\t1.508282\n",
      "train epoch: 10 [44000/60000 (73%)]\t1.523595\n",
      "train epoch: 10 [46000/60000 (77%)]\t1.503695\n",
      "train epoch: 10 [48000/60000 (80%)]\t1.519148\n",
      "train epoch: 10 [50000/60000 (83%)]\t1.562558\n",
      "train epoch: 10 [52000/60000 (87%)]\t1.536049\n",
      "train epoch: 10 [54000/60000 (90%)]\t1.538522\n",
      "train epoch: 10 [56000/60000 (93%)]\t1.576495\n",
      "train epoch: 10 [58000/60000 (97%)]\t1.528085\n",
      "\n",
      "Test set: Average loss: 0.0148, Accuracy: 9783/10000 (98%)\n",
      "\n"
     ]
    }
   ],
   "source": [
    "for epoch in range(1,11):\n",
    "    train(epoch)\n",
    "    test()\n"
   ]
  },
  {
   "cell_type": "code",
   "execution_count": 25,
   "metadata": {},
   "outputs": [
    {
     "data": {
      "text/plain": [
       "device(type='cpu')"
      ]
     },
     "execution_count": 25,
     "metadata": {},
     "output_type": "execute_result"
    }
   ],
   "source": [
    "device"
   ]
  },
  {
   "cell_type": "code",
   "execution_count": 30,
   "metadata": {},
   "outputs": [
    {
     "name": "stdout",
     "output_type": "stream",
     "text": [
      "Prediction:5\n"
     ]
    },
    {
     "name": "stderr",
     "output_type": "stream",
     "text": [
      "C:\\Users\\user\\AppData\\Local\\Temp\\ipykernel_15200\\3307860700.py:21: UserWarning: Implicit dimension choice for softmax has been deprecated. Change the call to include dim=X as an argument.\n",
      "  return F.softmax(x)\n"
     ]
    },
    {
     "data": {
      "image/png": "[encoded data removed]",
      "text/plain": [
       "<Figure size 640x480 with 1 Axes>"
      ]
     },
     "metadata": {},
     "output_type": "display_data"
    }
   ],
   "source": [
    "import matplotlib.pyplot as plt\n",
    "\n",
    "\n",
    "model.eval()\n",
    "data,target=test_data[8]\n",
    "data=data.unsqueeze(0).to(device)\n",
    "output=model(data)\n",
    "prediction=output.argmax(dim=1,keepdim=True).item()\n",
    "print(f\"Prediction:{prediction}\")\n",
    "image=data.squeeze(0).squeeze(0).cpu().numpy()\n",
    "plt.imshow(image,cmap=\"gray\")\n",
    "plt.show()"
   ]
  },
  {
   "cell_type": "code",
   "execution_count": null,
   "metadata": {},
   "outputs": [],
   "source": []
  }
 ],
 "metadata": {
  "kernelspec": {
   "display_name": "pfa",
   "language": "python",
   "name": "python3"
  },
  "language_info": {
   "codemirror_mode": {
    "name": "ipython",
    "version": 3
   },
   "file_extension": ".py",
   "mimetype": "text/x-python",
   "name": "python",
   "nbconvert_exporter": "python",
   "pygments_lexer": "ipython3",
   "version": "3.11.8"
  }
 },
 "nbformat": 4,
 "nbformat_minor": 2
}
